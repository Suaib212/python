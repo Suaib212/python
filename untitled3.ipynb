{
  "nbformat": 4,
  "nbformat_minor": 0,
  "metadata": {
    "colab": {
      "provenance": []
    },
    "kernelspec": {
      "name": "python3",
      "display_name": "Python 3"
    },
    "language_info": {
      "name": "python"
    }
  },
  "cells": [
    {
      "cell_type": "code",
      "execution_count": null,
      "metadata": {
        "id": "zBtdiv6Wzx5L"
      },
      "outputs": [],
      "source": [
        "import array"
      ]
    },
    {
      "cell_type": "code",
      "source": [
        "arr=array.array('i',[2,4,6,8,10,12])"
      ],
      "metadata": {
        "id": "zZ2MmvDy0CQA"
      },
      "execution_count": null,
      "outputs": []
    },
    {
      "cell_type": "code",
      "source": [
        "# print the original array\n",
        "print(\"New created array \", end=\"\")"
      ],
      "metadata": {
        "colab": {
          "base_uri": "https://localhost:8080/"
        },
        "id": "elhTT8zc1QzG",
        "outputId": "788f9055-ff55-4e8c-8d58-f69a8484c3cc"
      },
      "execution_count": null,
      "outputs": [
        {
          "output_type": "stream",
          "name": "stdout",
          "text": [
            "New created array "
          ]
        }
      ]
    },
    {
      "cell_type": "code",
      "source": [
        "for i in range(0,5):\n",
        "  print(arr[i],end=\"\")\n",
        "  print(\"\\r\")"
      ],
      "metadata": {
        "colab": {
          "base_uri": "https://localhost:8080/"
        },
        "id": "RpXPBXtt154Q",
        "outputId": "3ee21e46-dd3d-4ba6-98c3-42f72f23eeac"
      },
      "execution_count": null,
      "outputs": [
        {
          "output_type": "stream",
          "name": "stdout",
          "text": [
            "2\r\n",
            "4\r\n",
            "6\r\n",
            "8\r\n",
            "10\r\n"
          ]
        }
      ]
    },
    {
      "cell_type": "code",
      "source": [
        "import pandas as pd"
      ],
      "metadata": {
        "id": "trh75Dpl4oQQ"
      },
      "execution_count": null,
      "outputs": []
    },
    {
      "cell_type": "code",
      "source": [
        "#dictionary of lists\n",
        "dict = {'name':[\"Smith\",\"William\",\"Phill\",\"Parker\"],\n",
        "      'age':[\"28\",\"39\",\"34\",\"36\"]}\n"
      ],
      "metadata": {
        "id": "7-sBLyN247fp"
      },
      "execution_count": null,
      "outputs": []
    },
    {
      "cell_type": "code",
      "source": [
        "\n",
        "info = pd.DataFrame(dict,index = [True, True, False, True])\n",
        "print(info)\n"
      ],
      "metadata": {
        "colab": {
          "base_uri": "https://localhost:8080/"
        },
        "id": "jt1ZuIto8rHw",
        "outputId": "9c65df23-71a3-4f01-a811-94aad3d512c7"
      },
      "execution_count": null,
      "outputs": [
        {
          "output_type": "stream",
          "name": "stdout",
          "text": [
            "          name age\n",
            "True     Smith  28\n",
            "True   William  39\n",
            "False    Phill  34\n",
            "True    Parker  36\n"
          ]
        }
      ]
    },
    {
      "cell_type": "code",
      "source": [
        "# accessing a dataframe using .loc[] function\n",
        "print(info.loc[True])"
      ],
      "metadata": {
        "colab": {
          "base_uri": "https://localhost:8080/"
        },
        "id": "cUIcz1ho-odk",
        "outputId": "40b9176a-3daf-44c8-f95e-49bfd2f9a08e"
      },
      "execution_count": null,
      "outputs": [
        {
          "output_type": "stream",
          "name": "stdout",
          "text": [
            "         name age\n",
            "True    Smith  28\n",
            "True  William  39\n",
            "True   Parker  36\n"
          ]
        }
      ]
    },
    {
      "cell_type": "code",
      "source": [
        "import numpy as np"
      ],
      "metadata": {
        "id": "YThH3n4O9Tt_"
      },
      "execution_count": null,
      "outputs": []
    },
    {
      "cell_type": "code",
      "source": [
        "arr = np.arange(16)\n",
        "print(\"The Original array is:\\n\",arr)\n",
        "\n",
        "#shape array with 2 rows and 8 columns\n",
        "arr = np.arange(16).reshape(2,8)\n",
        "print(\"\\nreshapedarray:\\n\",arr)\n",
        "#shape array with with 2 rows anmd 8 columns\n",
        "arr = np.arange (16).reshape(8,2)\n",
        "print(\"\\nreshaped array:\\n\",arr)"
      ],
      "metadata": {
        "colab": {
          "base_uri": "https://localhost:8080/"
        },
        "id": "Mpr9LwBuAEKo",
        "outputId": "0b0182b2-ccb5-4aed-8300-6b8760e41e27"
      },
      "execution_count": null,
      "outputs": [
        {
          "output_type": "stream",
          "name": "stdout",
          "text": [
            "The Original array is:\n",
            " [ 0  1  2  3  4  5  6  7  8  9 10 11 12 13 14 15]\n",
            "\n",
            "reshapedarray:\n",
            " [[ 0  1  2  3  4  5  6  7]\n",
            " [ 8  9 10 11 12 13 14 15]]\n",
            "\n",
            "reshaped array:\n",
            " [[ 0  1]\n",
            " [ 2  3]\n",
            " [ 4  5]\n",
            " [ 6  7]\n",
            " [ 8  9]\n",
            " [10 11]\n",
            " [12 13]\n",
            " [14 15]]\n"
          ]
        }
      ]
    }
  ]
}